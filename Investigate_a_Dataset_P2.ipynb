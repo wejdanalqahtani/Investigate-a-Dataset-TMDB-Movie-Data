{
 "cells": [
  {
   "cell_type": "markdown",
   "metadata": {},
   "source": [
    "\n",
    "# Project: Investigate a Dataset - TMDb Movie Data Analysis\n",
    "\n",
    "## Table of Contents\n",
    "<ul>\n",
    "<li><a href=\"#intro\">Introduction</a></li>\n",
    "<li><a href=\"#wrangling\">Data Wrangling</a></li>\n",
    "<li><a href=\"#eda\">Exploratory Data Analysis</a></li>\n",
    "<li><a href=\"#conclusions\">Conclusions</a></li>\n",
    "</ul>"
   ]
  },
  {
   "cell_type": "markdown",
   "metadata": {},
   "source": [
    "<a id='intro'></a>\n",
    "## Introduction\n",
    "\n",
    "### Dataset Description \n",
    "\n",
    "### The used data set Includes all information of around 10,000 movies that are gathered from The Movie Database (TMDb), a number of characteristics about the movies are included in each row including user revenue and ratings.\n",
    "\n",
    "\n",
    "### Here is a description of the table attributes down below:\n",
    "\n",
    ">* *'id'* **and** *'imdb_id'* **refer to the movies unique id's as well as their imdb id's stored in the Movie Database.**\n",
    ">* *'budget'* **and** *'revenue'* **show the financial information such as budget and revenue for each movie.**\n",
    ">* *'cast', 'director',* **and** *'production_companies'* **contains the full names of actors, directors, production companies participated in the movie, respectively.**\n",
    ">* *'homepage'* **provides the main page for the movie with all information needed.**\n",
    ">* *'popularity', 'original_title', 'overview' , 'genres'*, **and** *'tagline'* **provides more details about the movie.**\n",
    ">* *'runtime', 'release_date'* **and** *'release_year'* **gives information about the movie releasement details including runtime and specific dates.**\n",
    ">* *'vote_count'* **and** *'vote_average'* **shows the average and the total number of votes for each movie.**\n",
    ">* *'budget_adj'* **and** *'revenue_adj'* **show the budget and revenue of the associated movie in terms of 2010 dollars, accounting for inflation over time.**\n",
    "#### **Some columns, Such as ‘cast’ and ‘genres’, contain multiple values separated by pipe (|) characters.**\n"
   ]
  },
  {
   "cell_type": "markdown",
   "metadata": {
    "collapsed": true
   },
   "source": [
    "### Questions for the Analysis:\n",
    "\n",
    "The main reason to conduct this analysis is to find out the answers to these main research questions:\n",
    "***\n",
    "* Research Question 1:  **Which movie is the most popular, in what year?**\n",
    "***\n",
    "* Research Question 2:  **Is there any relation between the movie's popularity and revenue?**\n",
    "***\n",
    "* Research Question 3:  **Is there a  correlation between the movie's vote_average and popularity?**\n",
    "***"
   ]
  },
  {
   "cell_type": "code",
   "execution_count": 2,
   "metadata": {},
   "outputs": [],
   "source": [
    "# First step we need to import all scientific computing and visualization modules.\n",
    "import numpy as np\n",
    "import pandas as pd\n",
    "import matplotlib.pyplot as plt\n",
    "import seaborn as sns\n",
    "%matplotlib inline"
   ]
  },
  {
   "cell_type": "code",
   "execution_count": 1,
   "metadata": {
    "collapsed": true
   },
   "outputs": [
    {
     "name": "stdout",
     "output_type": "stream",
     "text": [
      "Collecting pandas==0.25.0\n",
      "\u001b[?25l  Downloading https://files.pythonhosted.org/packages/1d/9a/7eb9952f4b4d73fbd75ad1d5d6112f407e695957444cb695cbb3cdab918a/pandas-0.25.0-cp36-cp36m-manylinux1_x86_64.whl (10.5MB)\n",
      "\u001b[K    100% |████████████████████████████████| 10.5MB 3.7MB/s eta 0:00:01  4% |█▎                              | 419kB 21.1MB/s eta 0:00:01    14% |████▌                           | 1.5MB 20.1MB/s eta 0:00:01    34% |███████████▏                    | 3.7MB 22.4MB/s eta 0:00:01    45% |██████████████▌                 | 4.8MB 22.3MB/s eta 0:00:01    55% |█████████████████▉              | 5.8MB 22.2MB/s eta 0:00:01    66% |█████████████████████▏          | 6.9MB 21.4MB/s eta 0:00:01\n",
      "\u001b[?25hRequirement already satisfied, skipping upgrade: pytz>=2017.2 in /opt/conda/lib/python3.6/site-packages (from pandas==0.25.0) (2017.3)\n",
      "Requirement already satisfied, skipping upgrade: python-dateutil>=2.6.1 in /opt/conda/lib/python3.6/site-packages (from pandas==0.25.0) (2.6.1)\n",
      "Collecting numpy>=1.13.3 (from pandas==0.25.0)\n",
      "\u001b[?25l  Downloading https://files.pythonhosted.org/packages/45/b2/6c7545bb7a38754d63048c7696804a0d947328125d81bf12beaa692c3ae3/numpy-1.19.5-cp36-cp36m-manylinux1_x86_64.whl (13.4MB)\n",
      "\u001b[K    100% |████████████████████████████████| 13.4MB 2.8MB/s eta 0:00:01   10% |███▎                            | 1.4MB 20.7MB/s eta 0:00:01    26% |████████▍                       | 3.5MB 22.3MB/s eta 0:00:01    34% |███████████                     | 4.6MB 21.5MB/s eta 0:00:01    42% |█████████████▌                  | 5.7MB 21.4MB/s eta 0:00:01    50% |████████████████                | 6.7MB 22.0MB/s eta 0:00:01    57% |██████████████████▌             | 7.8MB 22.4MB/s eta 0:00:01    89% |████████████████████████████▌   | 11.9MB 21.6MB/s eta 0:00:01    95% |██████████████████████████████▊ | 12.8MB 22.5MB/s eta 0:00:01\n",
      "\u001b[?25hRequirement already satisfied, skipping upgrade: six>=1.5 in /opt/conda/lib/python3.6/site-packages (from python-dateutil>=2.6.1->pandas==0.25.0) (1.11.0)\n",
      "\u001b[31mtensorflow 1.3.0 requires tensorflow-tensorboard<0.2.0,>=0.1.0, which is not installed.\u001b[0m\n",
      "Installing collected packages: numpy, pandas\n",
      "  Found existing installation: numpy 1.12.1\n",
      "    Uninstalling numpy-1.12.1:\n",
      "      Successfully uninstalled numpy-1.12.1\n",
      "  Found existing installation: pandas 0.23.3\n",
      "    Uninstalling pandas-0.23.3:\n",
      "      Successfully uninstalled pandas-0.23.3\n",
      "Successfully installed numpy-1.19.5 pandas-0.25.0\n"
     ]
    }
   ],
   "source": [
    "# Upgrade pandas to use dataframe.explode() function. \n",
    "!pip install --upgrade pandas==0.25.0"
   ]
  },
  {
   "cell_type": "markdown",
   "metadata": {},
   "source": [
    "<a id='wrangling'></a>\n",
    "## Data Wrangling\n",
    "\n",
    "### Throughout this stage we are going to examine our selected dataset, by using the following methods:\n",
    "\n",
    "* Validate data types.\n",
    "* Handling missing values.\n",
    "* Remove any outlier or duplicated values.\n",
    "* Make necessary data Adjustments."
   ]
  },
  {
   "cell_type": "markdown",
   "metadata": {
    "collapsed": true
   },
   "source": [
    "#### First step, is to load the data and print out a few lines, to have a general idea on the data in order to perform operations to inspect the data types and look for instances of missing data.\n",
    "\n",
    "**Here I used 'read_csv' in order to read the dataset.**"
   ]
  },
  {
   "cell_type": "code",
   "execution_count": 3,
   "metadata": {
    "scrolled": true
   },
   "outputs": [
    {
     "data": {
      "text/html": [
       "<div>\n",
       "<style scoped>\n",
       "    .dataframe tbody tr th:only-of-type {\n",
       "        vertical-align: middle;\n",
       "    }\n",
       "\n",
       "    .dataframe tbody tr th {\n",
       "        vertical-align: top;\n",
       "    }\n",
       "\n",
       "    .dataframe thead th {\n",
       "        text-align: right;\n",
       "    }\n",
       "</style>\n",
       "<table border=\"1\" class=\"dataframe\">\n",
       "  <thead>\n",
       "    <tr style=\"text-align: right;\">\n",
       "      <th></th>\n",
       "      <th>id</th>\n",
       "      <th>imdb_id</th>\n",
       "      <th>popularity</th>\n",
       "      <th>budget</th>\n",
       "      <th>revenue</th>\n",
       "      <th>original_title</th>\n",
       "      <th>cast</th>\n",
       "      <th>homepage</th>\n",
       "      <th>director</th>\n",
       "      <th>tagline</th>\n",
       "      <th>...</th>\n",
       "      <th>overview</th>\n",
       "      <th>runtime</th>\n",
       "      <th>genres</th>\n",
       "      <th>production_companies</th>\n",
       "      <th>release_date</th>\n",
       "      <th>vote_count</th>\n",
       "      <th>vote_average</th>\n",
       "      <th>release_year</th>\n",
       "      <th>budget_adj</th>\n",
       "      <th>revenue_adj</th>\n",
       "    </tr>\n",
       "  </thead>\n",
       "  <tbody>\n",
       "    <tr>\n",
       "      <th>0</th>\n",
       "      <td>135397</td>\n",
       "      <td>tt0369610</td>\n",
       "      <td>32.985763</td>\n",
       "      <td>150000000</td>\n",
       "      <td>1513528810</td>\n",
       "      <td>Jurassic World</td>\n",
       "      <td>Chris Pratt|Bryce Dallas Howard|Irrfan Khan|Vi...</td>\n",
       "      <td>http://www.jurassicworld.com/</td>\n",
       "      <td>Colin Trevorrow</td>\n",
       "      <td>The park is open.</td>\n",
       "      <td>...</td>\n",
       "      <td>Twenty-two years after the events of Jurassic ...</td>\n",
       "      <td>124</td>\n",
       "      <td>Action|Adventure|Science Fiction|Thriller</td>\n",
       "      <td>Universal Studios|Amblin Entertainment|Legenda...</td>\n",
       "      <td>6/9/15</td>\n",
       "      <td>5562</td>\n",
       "      <td>6.5</td>\n",
       "      <td>2015</td>\n",
       "      <td>1.379999e+08</td>\n",
       "      <td>1.392446e+09</td>\n",
       "    </tr>\n",
       "    <tr>\n",
       "      <th>1</th>\n",
       "      <td>76341</td>\n",
       "      <td>tt1392190</td>\n",
       "      <td>28.419936</td>\n",
       "      <td>150000000</td>\n",
       "      <td>378436354</td>\n",
       "      <td>Mad Max: Fury Road</td>\n",
       "      <td>Tom Hardy|Charlize Theron|Hugh Keays-Byrne|Nic...</td>\n",
       "      <td>http://www.madmaxmovie.com/</td>\n",
       "      <td>George Miller</td>\n",
       "      <td>What a Lovely Day.</td>\n",
       "      <td>...</td>\n",
       "      <td>An apocalyptic story set in the furthest reach...</td>\n",
       "      <td>120</td>\n",
       "      <td>Action|Adventure|Science Fiction|Thriller</td>\n",
       "      <td>Village Roadshow Pictures|Kennedy Miller Produ...</td>\n",
       "      <td>5/13/15</td>\n",
       "      <td>6185</td>\n",
       "      <td>7.1</td>\n",
       "      <td>2015</td>\n",
       "      <td>1.379999e+08</td>\n",
       "      <td>3.481613e+08</td>\n",
       "    </tr>\n",
       "    <tr>\n",
       "      <th>2</th>\n",
       "      <td>262500</td>\n",
       "      <td>tt2908446</td>\n",
       "      <td>13.112507</td>\n",
       "      <td>110000000</td>\n",
       "      <td>295238201</td>\n",
       "      <td>Insurgent</td>\n",
       "      <td>Shailene Woodley|Theo James|Kate Winslet|Ansel...</td>\n",
       "      <td>http://www.thedivergentseries.movie/#insurgent</td>\n",
       "      <td>Robert Schwentke</td>\n",
       "      <td>One Choice Can Destroy You</td>\n",
       "      <td>...</td>\n",
       "      <td>Beatrice Prior must confront her inner demons ...</td>\n",
       "      <td>119</td>\n",
       "      <td>Adventure|Science Fiction|Thriller</td>\n",
       "      <td>Summit Entertainment|Mandeville Films|Red Wago...</td>\n",
       "      <td>3/18/15</td>\n",
       "      <td>2480</td>\n",
       "      <td>6.3</td>\n",
       "      <td>2015</td>\n",
       "      <td>1.012000e+08</td>\n",
       "      <td>2.716190e+08</td>\n",
       "    </tr>\n",
       "    <tr>\n",
       "      <th>3</th>\n",
       "      <td>140607</td>\n",
       "      <td>tt2488496</td>\n",
       "      <td>11.173104</td>\n",
       "      <td>200000000</td>\n",
       "      <td>2068178225</td>\n",
       "      <td>Star Wars: The Force Awakens</td>\n",
       "      <td>Harrison Ford|Mark Hamill|Carrie Fisher|Adam D...</td>\n",
       "      <td>http://www.starwars.com/films/star-wars-episod...</td>\n",
       "      <td>J.J. Abrams</td>\n",
       "      <td>Every generation has a story.</td>\n",
       "      <td>...</td>\n",
       "      <td>Thirty years after defeating the Galactic Empi...</td>\n",
       "      <td>136</td>\n",
       "      <td>Action|Adventure|Science Fiction|Fantasy</td>\n",
       "      <td>Lucasfilm|Truenorth Productions|Bad Robot</td>\n",
       "      <td>12/15/15</td>\n",
       "      <td>5292</td>\n",
       "      <td>7.5</td>\n",
       "      <td>2015</td>\n",
       "      <td>1.839999e+08</td>\n",
       "      <td>1.902723e+09</td>\n",
       "    </tr>\n",
       "    <tr>\n",
       "      <th>4</th>\n",
       "      <td>168259</td>\n",
       "      <td>tt2820852</td>\n",
       "      <td>9.335014</td>\n",
       "      <td>190000000</td>\n",
       "      <td>1506249360</td>\n",
       "      <td>Furious 7</td>\n",
       "      <td>Vin Diesel|Paul Walker|Jason Statham|Michelle ...</td>\n",
       "      <td>http://www.furious7.com/</td>\n",
       "      <td>James Wan</td>\n",
       "      <td>Vengeance Hits Home</td>\n",
       "      <td>...</td>\n",
       "      <td>Deckard Shaw seeks revenge against Dominic Tor...</td>\n",
       "      <td>137</td>\n",
       "      <td>Action|Crime|Thriller</td>\n",
       "      <td>Universal Pictures|Original Film|Media Rights ...</td>\n",
       "      <td>4/1/15</td>\n",
       "      <td>2947</td>\n",
       "      <td>7.3</td>\n",
       "      <td>2015</td>\n",
       "      <td>1.747999e+08</td>\n",
       "      <td>1.385749e+09</td>\n",
       "    </tr>\n",
       "  </tbody>\n",
       "</table>\n",
       "<p>5 rows × 21 columns</p>\n",
       "</div>"
      ],
      "text/plain": [
       "       id    imdb_id  popularity     budget     revenue  \\\n",
       "0  135397  tt0369610   32.985763  150000000  1513528810   \n",
       "1   76341  tt1392190   28.419936  150000000   378436354   \n",
       "2  262500  tt2908446   13.112507  110000000   295238201   \n",
       "3  140607  tt2488496   11.173104  200000000  2068178225   \n",
       "4  168259  tt2820852    9.335014  190000000  1506249360   \n",
       "\n",
       "                 original_title  \\\n",
       "0                Jurassic World   \n",
       "1            Mad Max: Fury Road   \n",
       "2                     Insurgent   \n",
       "3  Star Wars: The Force Awakens   \n",
       "4                     Furious 7   \n",
       "\n",
       "                                                cast  \\\n",
       "0  Chris Pratt|Bryce Dallas Howard|Irrfan Khan|Vi...   \n",
       "1  Tom Hardy|Charlize Theron|Hugh Keays-Byrne|Nic...   \n",
       "2  Shailene Woodley|Theo James|Kate Winslet|Ansel...   \n",
       "3  Harrison Ford|Mark Hamill|Carrie Fisher|Adam D...   \n",
       "4  Vin Diesel|Paul Walker|Jason Statham|Michelle ...   \n",
       "\n",
       "                                            homepage          director  \\\n",
       "0                      http://www.jurassicworld.com/   Colin Trevorrow   \n",
       "1                        http://www.madmaxmovie.com/     George Miller   \n",
       "2     http://www.thedivergentseries.movie/#insurgent  Robert Schwentke   \n",
       "3  http://www.starwars.com/films/star-wars-episod...       J.J. Abrams   \n",
       "4                           http://www.furious7.com/         James Wan   \n",
       "\n",
       "                         tagline  ...  \\\n",
       "0              The park is open.  ...   \n",
       "1             What a Lovely Day.  ...   \n",
       "2     One Choice Can Destroy You  ...   \n",
       "3  Every generation has a story.  ...   \n",
       "4            Vengeance Hits Home  ...   \n",
       "\n",
       "                                            overview runtime  \\\n",
       "0  Twenty-two years after the events of Jurassic ...     124   \n",
       "1  An apocalyptic story set in the furthest reach...     120   \n",
       "2  Beatrice Prior must confront her inner demons ...     119   \n",
       "3  Thirty years after defeating the Galactic Empi...     136   \n",
       "4  Deckard Shaw seeks revenge against Dominic Tor...     137   \n",
       "\n",
       "                                      genres  \\\n",
       "0  Action|Adventure|Science Fiction|Thriller   \n",
       "1  Action|Adventure|Science Fiction|Thriller   \n",
       "2         Adventure|Science Fiction|Thriller   \n",
       "3   Action|Adventure|Science Fiction|Fantasy   \n",
       "4                      Action|Crime|Thriller   \n",
       "\n",
       "                                production_companies release_date vote_count  \\\n",
       "0  Universal Studios|Amblin Entertainment|Legenda...       6/9/15       5562   \n",
       "1  Village Roadshow Pictures|Kennedy Miller Produ...      5/13/15       6185   \n",
       "2  Summit Entertainment|Mandeville Films|Red Wago...      3/18/15       2480   \n",
       "3          Lucasfilm|Truenorth Productions|Bad Robot     12/15/15       5292   \n",
       "4  Universal Pictures|Original Film|Media Rights ...       4/1/15       2947   \n",
       "\n",
       "   vote_average  release_year    budget_adj   revenue_adj  \n",
       "0           6.5          2015  1.379999e+08  1.392446e+09  \n",
       "1           7.1          2015  1.379999e+08  3.481613e+08  \n",
       "2           6.3          2015  1.012000e+08  2.716190e+08  \n",
       "3           7.5          2015  1.839999e+08  1.902723e+09  \n",
       "4           7.3          2015  1.747999e+08  1.385749e+09  \n",
       "\n",
       "[5 rows x 21 columns]"
      ]
     },
     "execution_count": 3,
     "metadata": {},
     "output_type": "execute_result"
    }
   ],
   "source": [
    "# Use.read_csv() to load a CSV file as a pandas dataframe.\n",
    "df=pd.read_csv('tmdb-movies.csv')\n",
    "df.head()"
   ]
  },
  {
   "cell_type": "markdown",
   "metadata": {},
   "source": [
    "**Here I used .shape to identify the dimension's index numbers representing the shape of the given array. Therefore, it shows that there are 10866 movies, and 21 columns.**"
   ]
  },
  {
   "cell_type": "code",
   "execution_count": 4,
   "metadata": {},
   "outputs": [
    {
     "data": {
      "text/plain": [
       "(10866, 21)"
      ]
     },
     "execution_count": 4,
     "metadata": {},
     "output_type": "execute_result"
    }
   ],
   "source": [
    "#Use .shape() to return the shape of an array,these numbers denote lengths of the corresponding array dimension. \n",
    "df.shape"
   ]
  },
  {
   "cell_type": "markdown",
   "metadata": {},
   "source": [
    "**To get a descriptive statistics summary of the dataframe, I used the .describe() function. Also, to understand more about the data as if there are any outliers to identify any changes I have to make.**"
   ]
  },
  {
   "cell_type": "code",
   "execution_count": 5,
   "metadata": {
    "scrolled": true
   },
   "outputs": [
    {
     "data": {
      "text/html": [
       "<div>\n",
       "<style scoped>\n",
       "    .dataframe tbody tr th:only-of-type {\n",
       "        vertical-align: middle;\n",
       "    }\n",
       "\n",
       "    .dataframe tbody tr th {\n",
       "        vertical-align: top;\n",
       "    }\n",
       "\n",
       "    .dataframe thead th {\n",
       "        text-align: right;\n",
       "    }\n",
       "</style>\n",
       "<table border=\"1\" class=\"dataframe\">\n",
       "  <thead>\n",
       "    <tr style=\"text-align: right;\">\n",
       "      <th></th>\n",
       "      <th>id</th>\n",
       "      <th>popularity</th>\n",
       "      <th>budget</th>\n",
       "      <th>revenue</th>\n",
       "      <th>runtime</th>\n",
       "      <th>vote_count</th>\n",
       "      <th>vote_average</th>\n",
       "      <th>release_year</th>\n",
       "      <th>budget_adj</th>\n",
       "      <th>revenue_adj</th>\n",
       "    </tr>\n",
       "  </thead>\n",
       "  <tbody>\n",
       "    <tr>\n",
       "      <th>count</th>\n",
       "      <td>10866.000000</td>\n",
       "      <td>10866.000000</td>\n",
       "      <td>1.086600e+04</td>\n",
       "      <td>1.086600e+04</td>\n",
       "      <td>10866.000000</td>\n",
       "      <td>10866.000000</td>\n",
       "      <td>10866.000000</td>\n",
       "      <td>10866.000000</td>\n",
       "      <td>1.086600e+04</td>\n",
       "      <td>1.086600e+04</td>\n",
       "    </tr>\n",
       "    <tr>\n",
       "      <th>mean</th>\n",
       "      <td>66064.177434</td>\n",
       "      <td>0.646441</td>\n",
       "      <td>1.462570e+07</td>\n",
       "      <td>3.982332e+07</td>\n",
       "      <td>102.070863</td>\n",
       "      <td>217.389748</td>\n",
       "      <td>5.974922</td>\n",
       "      <td>2001.322658</td>\n",
       "      <td>1.755104e+07</td>\n",
       "      <td>5.136436e+07</td>\n",
       "    </tr>\n",
       "    <tr>\n",
       "      <th>std</th>\n",
       "      <td>92130.136561</td>\n",
       "      <td>1.000185</td>\n",
       "      <td>3.091321e+07</td>\n",
       "      <td>1.170035e+08</td>\n",
       "      <td>31.381405</td>\n",
       "      <td>575.619058</td>\n",
       "      <td>0.935142</td>\n",
       "      <td>12.812941</td>\n",
       "      <td>3.430616e+07</td>\n",
       "      <td>1.446325e+08</td>\n",
       "    </tr>\n",
       "    <tr>\n",
       "      <th>min</th>\n",
       "      <td>5.000000</td>\n",
       "      <td>0.000065</td>\n",
       "      <td>0.000000e+00</td>\n",
       "      <td>0.000000e+00</td>\n",
       "      <td>0.000000</td>\n",
       "      <td>10.000000</td>\n",
       "      <td>1.500000</td>\n",
       "      <td>1960.000000</td>\n",
       "      <td>0.000000e+00</td>\n",
       "      <td>0.000000e+00</td>\n",
       "    </tr>\n",
       "    <tr>\n",
       "      <th>25%</th>\n",
       "      <td>10596.250000</td>\n",
       "      <td>0.207583</td>\n",
       "      <td>0.000000e+00</td>\n",
       "      <td>0.000000e+00</td>\n",
       "      <td>90.000000</td>\n",
       "      <td>17.000000</td>\n",
       "      <td>5.400000</td>\n",
       "      <td>1995.000000</td>\n",
       "      <td>0.000000e+00</td>\n",
       "      <td>0.000000e+00</td>\n",
       "    </tr>\n",
       "    <tr>\n",
       "      <th>50%</th>\n",
       "      <td>20669.000000</td>\n",
       "      <td>0.383856</td>\n",
       "      <td>0.000000e+00</td>\n",
       "      <td>0.000000e+00</td>\n",
       "      <td>99.000000</td>\n",
       "      <td>38.000000</td>\n",
       "      <td>6.000000</td>\n",
       "      <td>2006.000000</td>\n",
       "      <td>0.000000e+00</td>\n",
       "      <td>0.000000e+00</td>\n",
       "    </tr>\n",
       "    <tr>\n",
       "      <th>75%</th>\n",
       "      <td>75610.000000</td>\n",
       "      <td>0.713817</td>\n",
       "      <td>1.500000e+07</td>\n",
       "      <td>2.400000e+07</td>\n",
       "      <td>111.000000</td>\n",
       "      <td>145.750000</td>\n",
       "      <td>6.600000</td>\n",
       "      <td>2011.000000</td>\n",
       "      <td>2.085325e+07</td>\n",
       "      <td>3.369710e+07</td>\n",
       "    </tr>\n",
       "    <tr>\n",
       "      <th>max</th>\n",
       "      <td>417859.000000</td>\n",
       "      <td>32.985763</td>\n",
       "      <td>4.250000e+08</td>\n",
       "      <td>2.781506e+09</td>\n",
       "      <td>900.000000</td>\n",
       "      <td>9767.000000</td>\n",
       "      <td>9.200000</td>\n",
       "      <td>2015.000000</td>\n",
       "      <td>4.250000e+08</td>\n",
       "      <td>2.827124e+09</td>\n",
       "    </tr>\n",
       "  </tbody>\n",
       "</table>\n",
       "</div>"
      ],
      "text/plain": [
       "                  id    popularity        budget       revenue       runtime  \\\n",
       "count   10866.000000  10866.000000  1.086600e+04  1.086600e+04  10866.000000   \n",
       "mean    66064.177434      0.646441  1.462570e+07  3.982332e+07    102.070863   \n",
       "std     92130.136561      1.000185  3.091321e+07  1.170035e+08     31.381405   \n",
       "min         5.000000      0.000065  0.000000e+00  0.000000e+00      0.000000   \n",
       "25%     10596.250000      0.207583  0.000000e+00  0.000000e+00     90.000000   \n",
       "50%     20669.000000      0.383856  0.000000e+00  0.000000e+00     99.000000   \n",
       "75%     75610.000000      0.713817  1.500000e+07  2.400000e+07    111.000000   \n",
       "max    417859.000000     32.985763  4.250000e+08  2.781506e+09    900.000000   \n",
       "\n",
       "         vote_count  vote_average  release_year    budget_adj   revenue_adj  \n",
       "count  10866.000000  10866.000000  10866.000000  1.086600e+04  1.086600e+04  \n",
       "mean     217.389748      5.974922   2001.322658  1.755104e+07  5.136436e+07  \n",
       "std      575.619058      0.935142     12.812941  3.430616e+07  1.446325e+08  \n",
       "min       10.000000      1.500000   1960.000000  0.000000e+00  0.000000e+00  \n",
       "25%       17.000000      5.400000   1995.000000  0.000000e+00  0.000000e+00  \n",
       "50%       38.000000      6.000000   2006.000000  0.000000e+00  0.000000e+00  \n",
       "75%      145.750000      6.600000   2011.000000  2.085325e+07  3.369710e+07  \n",
       "max     9767.000000      9.200000   2015.000000  4.250000e+08  2.827124e+09  "
      ]
     },
     "execution_count": 5,
     "metadata": {},
     "output_type": "execute_result"
    }
   ],
   "source": [
    "#.describe() computes and displays summary statistics for a Python dataframe#\n",
    "df.describe()"
   ]
  },
  {
   "cell_type": "markdown",
   "metadata": {},
   "source": [
    "* From this summary statistics, I can see that there are 0.65% of movies have gained popularity, as well as 75% have vote average around 6.6%, and most of these movies were released in 2015.\n",
    "\n",
    "* The most popular movie has 32.9% and the least popular one has 0%. The majority of them are between 0.7 and 30 percent.\n",
    "* Only 75 percent of the movies have budgets.\n",
    "* Mostly, movies released in the year of 2011 and up have more vote count than the previous years movies."
   ]
  },
  {
   "cell_type": "markdown",
   "metadata": {},
   "source": [
    "**Here I was looking for missing values, by using info() function**"
   ]
  },
  {
   "cell_type": "code",
   "execution_count": 6,
   "metadata": {
    "scrolled": true
   },
   "outputs": [
    {
     "name": "stdout",
     "output_type": "stream",
     "text": [
      "<class 'pandas.core.frame.DataFrame'>\n",
      "RangeIndex: 10866 entries, 0 to 10865\n",
      "Data columns (total 21 columns):\n",
      "id                      10866 non-null int64\n",
      "imdb_id                 10856 non-null object\n",
      "popularity              10866 non-null float64\n",
      "budget                  10866 non-null int64\n",
      "revenue                 10866 non-null int64\n",
      "original_title          10866 non-null object\n",
      "cast                    10790 non-null object\n",
      "homepage                2936 non-null object\n",
      "director                10822 non-null object\n",
      "tagline                 8042 non-null object\n",
      "keywords                9373 non-null object\n",
      "overview                10862 non-null object\n",
      "runtime                 10866 non-null int64\n",
      "genres                  10843 non-null object\n",
      "production_companies    9836 non-null object\n",
      "release_date            10866 non-null object\n",
      "vote_count              10866 non-null int64\n",
      "vote_average            10866 non-null float64\n",
      "release_year            10866 non-null int64\n",
      "budget_adj              10866 non-null float64\n",
      "revenue_adj             10866 non-null float64\n",
      "dtypes: float64(4), int64(6), object(11)\n",
      "memory usage: 1.7+ MB\n"
     ]
    }
   ],
   "source": [
    "# .info() to print information about the DataFrame.\n",
    "df.info()"
   ]
  },
  {
   "cell_type": "markdown",
   "metadata": {},
   "source": [
    "From the table shown, I can see some attributes have missing values such as 'imdb_id', 'cast', 'homepage', 'director', 'tagline', 'keywords', 'overview', 'genres', and 'production_companies', which needs to be cleaned out in the next stage.."
   ]
  },
  {
   "cell_type": "markdown",
   "metadata": {},
   "source": [
    "\n",
    "### Data Cleaning\n",
    "\n",
    "### To clean up the data I removed the *'actors'* and *'directors'* names as it seemed to be personal information and not needed in the analysis, as well as the extra movie explanation such as *'homepage', 'keywords', 'overview', 'production_companies'*, and *'tagline'*. In addition, I removed the *'budget_adj','revenue_adj', 'vote_count', 'imdb_id'* and *'release_year'* as the are alredy mentioned in the table in different way.\n",
    "****"
   ]
  },
  {
   "cell_type": "markdown",
   "metadata": {
    "collapsed": true
   },
   "source": [
    "#### So in order to do that, I used drop() to remove the unwanted attributes "
   ]
  },
  {
   "cell_type": "code",
   "execution_count": 7,
   "metadata": {},
   "outputs": [],
   "source": [
    "#.drop() removes the specified row or column, in this case I removed unnecessary columns.\n",
    "df.drop(['cast','homepage','director','keywords',\n",
    "         'overview','tagline','budget_adj','revenue_adj','vote_count',\n",
    "         'release_year','production_companies','imdb_id'], axis=1, inplace=True)"
   ]
  },
  {
   "cell_type": "markdown",
   "metadata": {},
   "source": [
    "**Below you can see the table after dropping the attributes with the missing values, by using .head() function**"
   ]
  },
  {
   "cell_type": "code",
   "execution_count": 8,
   "metadata": {
    "scrolled": true
   },
   "outputs": [
    {
     "data": {
      "text/html": [
       "<div>\n",
       "<style scoped>\n",
       "    .dataframe tbody tr th:only-of-type {\n",
       "        vertical-align: middle;\n",
       "    }\n",
       "\n",
       "    .dataframe tbody tr th {\n",
       "        vertical-align: top;\n",
       "    }\n",
       "\n",
       "    .dataframe thead th {\n",
       "        text-align: right;\n",
       "    }\n",
       "</style>\n",
       "<table border=\"1\" class=\"dataframe\">\n",
       "  <thead>\n",
       "    <tr style=\"text-align: right;\">\n",
       "      <th></th>\n",
       "      <th>id</th>\n",
       "      <th>popularity</th>\n",
       "      <th>budget</th>\n",
       "      <th>revenue</th>\n",
       "      <th>original_title</th>\n",
       "      <th>runtime</th>\n",
       "      <th>genres</th>\n",
       "      <th>release_date</th>\n",
       "      <th>vote_average</th>\n",
       "    </tr>\n",
       "  </thead>\n",
       "  <tbody>\n",
       "    <tr>\n",
       "      <th>0</th>\n",
       "      <td>135397</td>\n",
       "      <td>32.985763</td>\n",
       "      <td>150000000</td>\n",
       "      <td>1513528810</td>\n",
       "      <td>Jurassic World</td>\n",
       "      <td>124</td>\n",
       "      <td>Action|Adventure|Science Fiction|Thriller</td>\n",
       "      <td>6/9/15</td>\n",
       "      <td>6.5</td>\n",
       "    </tr>\n",
       "    <tr>\n",
       "      <th>1</th>\n",
       "      <td>76341</td>\n",
       "      <td>28.419936</td>\n",
       "      <td>150000000</td>\n",
       "      <td>378436354</td>\n",
       "      <td>Mad Max: Fury Road</td>\n",
       "      <td>120</td>\n",
       "      <td>Action|Adventure|Science Fiction|Thriller</td>\n",
       "      <td>5/13/15</td>\n",
       "      <td>7.1</td>\n",
       "    </tr>\n",
       "    <tr>\n",
       "      <th>2</th>\n",
       "      <td>262500</td>\n",
       "      <td>13.112507</td>\n",
       "      <td>110000000</td>\n",
       "      <td>295238201</td>\n",
       "      <td>Insurgent</td>\n",
       "      <td>119</td>\n",
       "      <td>Adventure|Science Fiction|Thriller</td>\n",
       "      <td>3/18/15</td>\n",
       "      <td>6.3</td>\n",
       "    </tr>\n",
       "    <tr>\n",
       "      <th>3</th>\n",
       "      <td>140607</td>\n",
       "      <td>11.173104</td>\n",
       "      <td>200000000</td>\n",
       "      <td>2068178225</td>\n",
       "      <td>Star Wars: The Force Awakens</td>\n",
       "      <td>136</td>\n",
       "      <td>Action|Adventure|Science Fiction|Fantasy</td>\n",
       "      <td>12/15/15</td>\n",
       "      <td>7.5</td>\n",
       "    </tr>\n",
       "    <tr>\n",
       "      <th>4</th>\n",
       "      <td>168259</td>\n",
       "      <td>9.335014</td>\n",
       "      <td>190000000</td>\n",
       "      <td>1506249360</td>\n",
       "      <td>Furious 7</td>\n",
       "      <td>137</td>\n",
       "      <td>Action|Crime|Thriller</td>\n",
       "      <td>4/1/15</td>\n",
       "      <td>7.3</td>\n",
       "    </tr>\n",
       "    <tr>\n",
       "      <th>5</th>\n",
       "      <td>281957</td>\n",
       "      <td>9.110700</td>\n",
       "      <td>135000000</td>\n",
       "      <td>532950503</td>\n",
       "      <td>The Revenant</td>\n",
       "      <td>156</td>\n",
       "      <td>Western|Drama|Adventure|Thriller</td>\n",
       "      <td>12/25/15</td>\n",
       "      <td>7.2</td>\n",
       "    </tr>\n",
       "    <tr>\n",
       "      <th>6</th>\n",
       "      <td>87101</td>\n",
       "      <td>8.654359</td>\n",
       "      <td>155000000</td>\n",
       "      <td>440603537</td>\n",
       "      <td>Terminator Genisys</td>\n",
       "      <td>125</td>\n",
       "      <td>Science Fiction|Action|Thriller|Adventure</td>\n",
       "      <td>6/23/15</td>\n",
       "      <td>5.8</td>\n",
       "    </tr>\n",
       "    <tr>\n",
       "      <th>7</th>\n",
       "      <td>286217</td>\n",
       "      <td>7.667400</td>\n",
       "      <td>108000000</td>\n",
       "      <td>595380321</td>\n",
       "      <td>The Martian</td>\n",
       "      <td>141</td>\n",
       "      <td>Drama|Adventure|Science Fiction</td>\n",
       "      <td>9/30/15</td>\n",
       "      <td>7.6</td>\n",
       "    </tr>\n",
       "    <tr>\n",
       "      <th>8</th>\n",
       "      <td>211672</td>\n",
       "      <td>7.404165</td>\n",
       "      <td>74000000</td>\n",
       "      <td>1156730962</td>\n",
       "      <td>Minions</td>\n",
       "      <td>91</td>\n",
       "      <td>Family|Animation|Adventure|Comedy</td>\n",
       "      <td>6/17/15</td>\n",
       "      <td>6.5</td>\n",
       "    </tr>\n",
       "    <tr>\n",
       "      <th>9</th>\n",
       "      <td>150540</td>\n",
       "      <td>6.326804</td>\n",
       "      <td>175000000</td>\n",
       "      <td>853708609</td>\n",
       "      <td>Inside Out</td>\n",
       "      <td>94</td>\n",
       "      <td>Comedy|Animation|Family</td>\n",
       "      <td>6/9/15</td>\n",
       "      <td>8.0</td>\n",
       "    </tr>\n",
       "    <tr>\n",
       "      <th>10</th>\n",
       "      <td>206647</td>\n",
       "      <td>6.200282</td>\n",
       "      <td>245000000</td>\n",
       "      <td>880674609</td>\n",
       "      <td>Spectre</td>\n",
       "      <td>148</td>\n",
       "      <td>Action|Adventure|Crime</td>\n",
       "      <td>10/26/15</td>\n",
       "      <td>6.2</td>\n",
       "    </tr>\n",
       "    <tr>\n",
       "      <th>11</th>\n",
       "      <td>76757</td>\n",
       "      <td>6.189369</td>\n",
       "      <td>176000003</td>\n",
       "      <td>183987723</td>\n",
       "      <td>Jupiter Ascending</td>\n",
       "      <td>124</td>\n",
       "      <td>Science Fiction|Fantasy|Action|Adventure</td>\n",
       "      <td>2/4/15</td>\n",
       "      <td>5.2</td>\n",
       "    </tr>\n",
       "    <tr>\n",
       "      <th>12</th>\n",
       "      <td>264660</td>\n",
       "      <td>6.118847</td>\n",
       "      <td>15000000</td>\n",
       "      <td>36869414</td>\n",
       "      <td>Ex Machina</td>\n",
       "      <td>108</td>\n",
       "      <td>Drama|Science Fiction</td>\n",
       "      <td>1/21/15</td>\n",
       "      <td>7.6</td>\n",
       "    </tr>\n",
       "    <tr>\n",
       "      <th>13</th>\n",
       "      <td>257344</td>\n",
       "      <td>5.984995</td>\n",
       "      <td>88000000</td>\n",
       "      <td>243637091</td>\n",
       "      <td>Pixels</td>\n",
       "      <td>105</td>\n",
       "      <td>Action|Comedy|Science Fiction</td>\n",
       "      <td>7/16/15</td>\n",
       "      <td>5.8</td>\n",
       "    </tr>\n",
       "    <tr>\n",
       "      <th>14</th>\n",
       "      <td>99861</td>\n",
       "      <td>5.944927</td>\n",
       "      <td>280000000</td>\n",
       "      <td>1405035767</td>\n",
       "      <td>Avengers: Age of Ultron</td>\n",
       "      <td>141</td>\n",
       "      <td>Action|Adventure|Science Fiction</td>\n",
       "      <td>4/22/15</td>\n",
       "      <td>7.4</td>\n",
       "    </tr>\n",
       "    <tr>\n",
       "      <th>15</th>\n",
       "      <td>273248</td>\n",
       "      <td>5.898400</td>\n",
       "      <td>44000000</td>\n",
       "      <td>155760117</td>\n",
       "      <td>The Hateful Eight</td>\n",
       "      <td>167</td>\n",
       "      <td>Crime|Drama|Mystery|Western</td>\n",
       "      <td>12/25/15</td>\n",
       "      <td>7.4</td>\n",
       "    </tr>\n",
       "    <tr>\n",
       "      <th>16</th>\n",
       "      <td>260346</td>\n",
       "      <td>5.749758</td>\n",
       "      <td>48000000</td>\n",
       "      <td>325771424</td>\n",
       "      <td>Taken 3</td>\n",
       "      <td>109</td>\n",
       "      <td>Crime|Action|Thriller</td>\n",
       "      <td>1/1/15</td>\n",
       "      <td>6.1</td>\n",
       "    </tr>\n",
       "    <tr>\n",
       "      <th>17</th>\n",
       "      <td>102899</td>\n",
       "      <td>5.573184</td>\n",
       "      <td>130000000</td>\n",
       "      <td>518602163</td>\n",
       "      <td>Ant-Man</td>\n",
       "      <td>115</td>\n",
       "      <td>Science Fiction|Action|Adventure</td>\n",
       "      <td>7/14/15</td>\n",
       "      <td>7.0</td>\n",
       "    </tr>\n",
       "    <tr>\n",
       "      <th>18</th>\n",
       "      <td>150689</td>\n",
       "      <td>5.556818</td>\n",
       "      <td>95000000</td>\n",
       "      <td>542351353</td>\n",
       "      <td>Cinderella</td>\n",
       "      <td>112</td>\n",
       "      <td>Romance|Fantasy|Family|Drama</td>\n",
       "      <td>3/12/15</td>\n",
       "      <td>6.8</td>\n",
       "    </tr>\n",
       "    <tr>\n",
       "      <th>19</th>\n",
       "      <td>131634</td>\n",
       "      <td>5.476958</td>\n",
       "      <td>160000000</td>\n",
       "      <td>650523427</td>\n",
       "      <td>The Hunger Games: Mockingjay - Part 2</td>\n",
       "      <td>136</td>\n",
       "      <td>War|Adventure|Science Fiction</td>\n",
       "      <td>11/18/15</td>\n",
       "      <td>6.5</td>\n",
       "    </tr>\n",
       "  </tbody>\n",
       "</table>\n",
       "</div>"
      ],
      "text/plain": [
       "        id  popularity     budget     revenue  \\\n",
       "0   135397   32.985763  150000000  1513528810   \n",
       "1    76341   28.419936  150000000   378436354   \n",
       "2   262500   13.112507  110000000   295238201   \n",
       "3   140607   11.173104  200000000  2068178225   \n",
       "4   168259    9.335014  190000000  1506249360   \n",
       "5   281957    9.110700  135000000   532950503   \n",
       "6    87101    8.654359  155000000   440603537   \n",
       "7   286217    7.667400  108000000   595380321   \n",
       "8   211672    7.404165   74000000  1156730962   \n",
       "9   150540    6.326804  175000000   853708609   \n",
       "10  206647    6.200282  245000000   880674609   \n",
       "11   76757    6.189369  176000003   183987723   \n",
       "12  264660    6.118847   15000000    36869414   \n",
       "13  257344    5.984995   88000000   243637091   \n",
       "14   99861    5.944927  280000000  1405035767   \n",
       "15  273248    5.898400   44000000   155760117   \n",
       "16  260346    5.749758   48000000   325771424   \n",
       "17  102899    5.573184  130000000   518602163   \n",
       "18  150689    5.556818   95000000   542351353   \n",
       "19  131634    5.476958  160000000   650523427   \n",
       "\n",
       "                           original_title  runtime  \\\n",
       "0                          Jurassic World      124   \n",
       "1                      Mad Max: Fury Road      120   \n",
       "2                               Insurgent      119   \n",
       "3            Star Wars: The Force Awakens      136   \n",
       "4                               Furious 7      137   \n",
       "5                            The Revenant      156   \n",
       "6                      Terminator Genisys      125   \n",
       "7                             The Martian      141   \n",
       "8                                 Minions       91   \n",
       "9                              Inside Out       94   \n",
       "10                                Spectre      148   \n",
       "11                      Jupiter Ascending      124   \n",
       "12                             Ex Machina      108   \n",
       "13                                 Pixels      105   \n",
       "14                Avengers: Age of Ultron      141   \n",
       "15                      The Hateful Eight      167   \n",
       "16                                Taken 3      109   \n",
       "17                                Ant-Man      115   \n",
       "18                             Cinderella      112   \n",
       "19  The Hunger Games: Mockingjay - Part 2      136   \n",
       "\n",
       "                                       genres release_date  vote_average  \n",
       "0   Action|Adventure|Science Fiction|Thriller       6/9/15           6.5  \n",
       "1   Action|Adventure|Science Fiction|Thriller      5/13/15           7.1  \n",
       "2          Adventure|Science Fiction|Thriller      3/18/15           6.3  \n",
       "3    Action|Adventure|Science Fiction|Fantasy     12/15/15           7.5  \n",
       "4                       Action|Crime|Thriller       4/1/15           7.3  \n",
       "5            Western|Drama|Adventure|Thriller     12/25/15           7.2  \n",
       "6   Science Fiction|Action|Thriller|Adventure      6/23/15           5.8  \n",
       "7             Drama|Adventure|Science Fiction      9/30/15           7.6  \n",
       "8           Family|Animation|Adventure|Comedy      6/17/15           6.5  \n",
       "9                     Comedy|Animation|Family       6/9/15           8.0  \n",
       "10                     Action|Adventure|Crime     10/26/15           6.2  \n",
       "11   Science Fiction|Fantasy|Action|Adventure       2/4/15           5.2  \n",
       "12                      Drama|Science Fiction      1/21/15           7.6  \n",
       "13              Action|Comedy|Science Fiction      7/16/15           5.8  \n",
       "14           Action|Adventure|Science Fiction      4/22/15           7.4  \n",
       "15                Crime|Drama|Mystery|Western     12/25/15           7.4  \n",
       "16                      Crime|Action|Thriller       1/1/15           6.1  \n",
       "17           Science Fiction|Action|Adventure      7/14/15           7.0  \n",
       "18               Romance|Fantasy|Family|Drama      3/12/15           6.8  \n",
       "19              War|Adventure|Science Fiction     11/18/15           6.5  "
      ]
     },
     "execution_count": 8,
     "metadata": {},
     "output_type": "execute_result"
    }
   ],
   "source": [
    "#.head() displays the first five rows of the dataframe by default, for instance, I asked for 20 rows.\n",
    "df.head(20)"
   ]
  },
  {
   "cell_type": "markdown",
   "metadata": {},
   "source": [
    "**Here I used .hist() function, to visualise the data to have a clear look at it**"
   ]
  },
  {
   "cell_type": "code",
   "execution_count": 9,
   "metadata": {
    "scrolled": true
   },
   "outputs": [
    {
     "data": {
      "image/png": "[encoded data removed]",
      "text/plain": [
       "<matplotlib.figure.Figure at 0x7fe88132ea90>"
      ]
     },
     "metadata": {
      "needs_background": "light"
     },
     "output_type": "display_data"
    }
   ],
   "source": [
    "#.hist() to create histograms, in which it will use an array of numbers to create a histogram such as (20,16).\n",
    "df.hist(figsize=(20,16));"
   ]
  },
  {
   "cell_type": "markdown",
   "metadata": {},
   "source": [
    "* Most movies did not have revenue, majority of the reasons to have low popularity and budget."
   ]
  },
  {
   "cell_type": "markdown",
   "metadata": {},
   "source": [
    "**I used .info() to checkout the data if it need more adjustments to make**"
   ]
  },
  {
   "cell_type": "code",
   "execution_count": 10,
   "metadata": {
    "scrolled": true
   },
   "outputs": [
    {
     "name": "stdout",
     "output_type": "stream",
     "text": [
      "<class 'pandas.core.frame.DataFrame'>\n",
      "RangeIndex: 10866 entries, 0 to 10865\n",
      "Data columns (total 9 columns):\n",
      "id                10866 non-null int64\n",
      "popularity        10866 non-null float64\n",
      "budget            10866 non-null int64\n",
      "revenue           10866 non-null int64\n",
      "original_title    10866 non-null object\n",
      "runtime           10866 non-null int64\n",
      "genres            10843 non-null object\n",
      "release_date      10866 non-null object\n",
      "vote_average      10866 non-null float64\n",
      "dtypes: float64(2), int64(4), object(3)\n",
      "memory usage: 764.1+ KB\n"
     ]
    }
   ],
   "source": [
    "# .info() to print information about the DataFrame.\n",
    "df.info()"
   ]
  },
  {
   "cell_type": "markdown",
   "metadata": {},
   "source": [
    "It shows 10866 values with some missing values in some of the table attributes, which I believe that I need to narrow it down for more clear results and replace or remove the missing values**"
   ]
  },
  {
   "cell_type": "markdown",
   "metadata": {},
   "source": [
    "**To replace the missing values with the mean, I used fillna() function.**"
   ]
  },
  {
   "cell_type": "code",
   "execution_count": 18,
   "metadata": {
    "scrolled": true
   },
   "outputs": [
    {
     "name": "stdout",
     "output_type": "stream",
     "text": [
      "<class 'pandas.core.frame.DataFrame'>\n",
      "RangeIndex: 10866 entries, 0 to 10865\n",
      "Data columns (total 9 columns):\n",
      "id                10866 non-null int64\n",
      "popularity        10866 non-null float64\n",
      "budget            10866 non-null int64\n",
      "revenue           10866 non-null int64\n",
      "original_title    10866 non-null object\n",
      "runtime           10866 non-null int64\n",
      "genres            10843 non-null object\n",
      "release_date      10866 non-null object\n",
      "vote_average      10866 non-null float64\n",
      "dtypes: float64(2), int64(4), object(3)\n",
      "memory usage: 764.1+ KB\n"
     ]
    }
   ],
   "source": [
    "#.fillna() to replace the NULL values with a specified value such as the mean.\n",
    "df.fillna(df.mean(), inplace= True)\n",
    "df.info()"
   ]
  },
  {
   "cell_type": "markdown",
   "metadata": {},
   "source": [
    "**Here I used .dropna() in order to remove any NA values**"
   ]
  },
  {
   "cell_type": "code",
   "execution_count": 19,
   "metadata": {},
   "outputs": [],
   "source": [
    "#.dropna() to remove missing values.\n",
    "df.dropna(inplace= True)"
   ]
  },
  {
   "cell_type": "markdown",
   "metadata": {},
   "source": [
    "**To check the data after the adjustments have been made.**"
   ]
  },
  {
   "cell_type": "code",
   "execution_count": 20,
   "metadata": {},
   "outputs": [
    {
     "name": "stdout",
     "output_type": "stream",
     "text": [
      "<class 'pandas.core.frame.DataFrame'>\n",
      "Int64Index: 10843 entries, 0 to 10865\n",
      "Data columns (total 9 columns):\n",
      "id                10843 non-null int64\n",
      "popularity        10843 non-null float64\n",
      "budget            10843 non-null int64\n",
      "revenue           10843 non-null int64\n",
      "original_title    10843 non-null object\n",
      "runtime           10843 non-null int64\n",
      "genres            10843 non-null object\n",
      "release_date      10843 non-null object\n",
      "vote_average      10843 non-null float64\n",
      "dtypes: float64(2), int64(4), object(3)\n",
      "memory usage: 847.1+ KB\n"
     ]
    }
   ],
   "source": [
    "# .info() to print information about the DataFrame.\n",
    "df.info()"
   ]
  },
  {
   "cell_type": "markdown",
   "metadata": {},
   "source": [
    "#### Here is the final data after trimming and cleaning the data.Therefore, the data is ready for EDA now. "
   ]
  },
  {
   "cell_type": "markdown",
   "metadata": {},
   "source": [
    "#### Regarding the table shown, the most popular movie is Jurassic World with 32.9% in 2015.\n",
    "\n",
    "***"
   ]
  },
  {
   "cell_type": "markdown",
   "metadata": {},
   "source": [
    "<a id='eda'></a>\n",
    "## Exploratory Data Analysis\n",
    "\n",
    "\n",
    "\n",
    "### Research Question 1 :  Which movie is the most popular, in what year?"
   ]
  },
  {
   "cell_type": "code",
   "execution_count": 38,
   "metadata": {
    "scrolled": false
   },
   "outputs": [
    {
     "data": {
      "text/plain": [
       "id                                                   135397\n",
       "popularity                                          32.9858\n",
       "budget                                            150000000\n",
       "revenue                                          1513528810\n",
       "original_title                               Jurassic World\n",
       "runtime                                                 124\n",
       "genres            Action|Adventure|Science Fiction|Thriller\n",
       "release_date                                         6/9/15\n",
       "vote_average                                            6.5\n",
       "Name: 0, dtype: object"
      ]
     },
     "execution_count": 38,
     "metadata": {},
     "output_type": "execute_result"
    }
   ],
   "source": [
    "# .loc used to access a group of rows and columns by label such as 'popularity'\n",
    "# .idxmax() used  returns a series with the index of the maximum value for each column.\n",
    "df.loc[df['popularity'].idxmax()]"
   ]
  },
  {
   "cell_type": "code",
   "execution_count": 44,
   "metadata": {},
   "outputs": [
    {
     "data": {
      "image/png": "[encoded data removed]",
      "text/plain": [
       "<matplotlib.figure.Figure at 0x7fe880ead518>"
      ]
     },
     "metadata": {},
     "output_type": "display_data"
    }
   ],
   "source": [
    "# Used plt.pie() to show the proportions of categorical data.\n",
    "# With the size of each piece representing the proportion of each category of the movie.\n",
    "names = ['Budget', 'vote_average', 'Popularity', 'Revenue']\n",
    "size_of_groups=[12,11,3,30]\n",
    "plt.pie(size_of_groups)\n",
    "my_circle=plt.Circle( (0,0), 0.7, color='white')\n",
    "plt.pie(size, labels=names, colors=['pink','lightgreen','purple','skyblue'])\n",
    "p=plt.gcf()\n",
    "p.gca().add_artist(my_circle)\n",
    "plt.title('Jurassic World Donut Plot',fontweight =\"bold\")\n",
    "\n",
    "plt.show()"
   ]
  },
  {
   "cell_type": "markdown",
   "metadata": {},
   "source": [
    "#### Regarding the table shown, the most popular movie is Jurassic World with 32.9% in 2015.\n",
    "\n",
    "***"
   ]
  },
  {
   "cell_type": "markdown",
   "metadata": {},
   "source": [
    "### Research Question 2 : Is there any relation between the movie popularity and revenue"
   ]
  },
  {
   "cell_type": "code",
   "execution_count": 22,
   "metadata": {
    "scrolled": true
   },
   "outputs": [
    {
     "data": {
      "image/png": "[encoded data removed]",
      "text/plain": [
       "<matplotlib.figure.Figure at 0x7fe880ddc668>"
      ]
     },
     "metadata": {
      "needs_background": "light"
     },
     "output_type": "display_data"
    }
   ],
   "source": [
    "#.hist() to create histograms, in which it will use an array of numbers to create a histogram.\n",
    "df.popularity.hist(alpha=0.5, bins=20, label='Popularity')\n",
    "df.revenue.hist(alpha=0.5, bins=20, label='Revenue')\n",
    "plt.title('Correlation Between Popularity and Revenue',fontweight =\"bold\")\n",
    "plt.xlabel('Popularity Percentage')\n",
    "plt.ylabel('Revenue')\n",
    "plt.legend();"
   ]
  },
  {
   "cell_type": "code",
   "execution_count": 23,
   "metadata": {},
   "outputs": [
    {
     "data": {
      "text/plain": [
       "0.6474558849949276"
      ]
     },
     "execution_count": 23,
     "metadata": {},
     "output_type": "execute_result"
    }
   ],
   "source": [
    "#return the mean for popularity\n",
    "df.popularity.mean()"
   ]
  },
  {
   "cell_type": "code",
   "execution_count": 24,
   "metadata": {
    "scrolled": true
   },
   "outputs": [
    {
     "data": {
      "text/plain": [
       "39907792.38909896"
      ]
     },
     "execution_count": 24,
     "metadata": {},
     "output_type": "execute_result"
    }
   ],
   "source": [
    "#return the mean for revenue\n",
    "df.revenue.mean()"
   ]
  },
  {
   "cell_type": "markdown",
   "metadata": {},
   "source": [
    "#### Apparently there seem to be no correlation between popularity and revenue as it showed a huge differences in both values.\n",
    "***"
   ]
  },
  {
   "cell_type": "markdown",
   "metadata": {},
   "source": [
    "### Research Question 3: Is there a correlation between the movie's vote_average and popularity?"
   ]
  },
  {
   "cell_type": "code",
   "execution_count": 75,
   "metadata": {
    "scrolled": true
   },
   "outputs": [
    {
     "data": {
      "image/png": "[encoded data removed]",
      "text/plain": [
       "<matplotlib.figure.Figure at 0x7fe880e19c50>"
      ]
     },
     "metadata": {
      "needs_background": "light"
     },
     "output_type": "display_data"
    }
   ],
   "source": [
    "#Used sns.regplot() to observe relationship between 'popularity' and 'revenue' and uses dots to represent the relationship between them. \n",
    "plt.title('Correlation Between Popularity and Vote Average',fontweight =\"bold\");\n",
    "sns.regplot(x=df[\"popularity\"], y=df[\"vote_average\"], line_kws={\"color\":\"r\",\"alpha\":0.7,\"lw\":5})\n",
    "plt.show()"
   ]
  },
  {
   "cell_type": "markdown",
   "metadata": {},
   "source": [
    "#### As shown in the graph there is positive correlation between popularity and Vote Average, in which if popularity increases also Vote Average increase and vise versa. \n",
    "***"
   ]
  },
  {
   "cell_type": "markdown",
   "metadata": {},
   "source": [
    "<a id='conclusions'></a>\n",
    "## Conclusions\n",
    "\n",
    "\n",
    "To conclude, The Movie Database (TMDb) data was used for this project. There are two main questions to find out Answers from this analysis. According to the findings, revenue has not had a significant effect on the movies popularity. It was expected that movies between years of 2011–2015 have most popularity because they are most recent movies. \n",
    "\n",
    "\n",
    "#### Limitation of Analysis:\n",
    "Throughout the analysis I found some data deficiencies in data measurements. Therefore, It is not preferred to use any statistical test because most of the attributes is taken as a dependent variables.\n",
    "\n",
    "\n"
   ]
  }
 ],
 "metadata": {
  "kernelspec": {
   "display_name": "Python 3",
   "language": "python",
   "name": "python3"
  },
  "language_info": {
   "codemirror_mode": {
    "name": "ipython",
    "version": 3
   },
   "file_extension": ".py",
   "mimetype": "text/x-python",
   "name": "python",
   "nbconvert_exporter": "python",
   "pygments_lexer": "ipython3",
   "version": "3.6.3"
  }
 },
 "nbformat": 4,
 "nbformat_minor": 2
}
